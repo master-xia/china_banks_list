{
 "cells": [
  {
   "cell_type": "code",
   "execution_count": 15,
   "metadata": {},
   "outputs": [],
   "source": [
    "from requests import get\n",
    "from bs4 import BeautifulSoup\n",
    "import json\n",
    "import os\n",
    "\n",
    "ALI_BANKS = 'https://www.coderbusy.com/archives/1019.html'\n",
    "\n",
    "try:\n",
    "    response = get(ALI_BANKS)\n",
    "    data_list = []\n",
    "    soup = BeautifulSoup(response.text, 'html.parser')\n",
    "    tBody = soup.find('tbody')\n",
    "    rows = tBody.find_all('tr')\n",
    "    for row in rows:\n",
    "        cols = row.find_all('td')\n",
    "        item = {\n",
    "            'name':cols[1].get_text(),\n",
    "            'abbr_cn':cols[2].get_text(),\n",
    "            'code':cols[3].get_text(),\n",
    "            'contact':cols[4].get_text(),\n",
    "            'url':cols[5].get_text(),\n",
    "            'abbr_en':cols[6].get_text(),\n",
    "            'icon': ''\n",
    "        }\n",
    "        if item['code']:\n",
    "            if os.path.exists(f'icons/{item[\"abbr_en\"]}.png'):\n",
    "                item['icon'] = f'{item[\"abbr_en\"]}.png'\n",
    "            elif os.path.exists(f'icons/{item[\"name\"]}.png'):\n",
    "                 item['icon'] = f'{item[\"name\"]}.png'\n",
    "            elif os.path.exists(f'icons/{item[\"abbr_cn\"]}.png'):\n",
    "                 item['icon'] = f'{item[\"abbr_cn\"]}.png'\n",
    "            data_list.append(item)\n",
    "    with open('banks.json', 'w') as f:\n",
    "        json.dump(data_list, f, ensure_ascii=False,indent=2)\n",
    "    \n",
    "    with open('banks_abbr.json', 'w') as f:\n",
    "        json.dump(list(map( lambda x: {\n",
    "            'n':x['name'],\n",
    "            'c':x['code'],\n",
    "            'i':x['icon']},data_list)), f, ensure_ascii=False)\n",
    "        \n",
    "except Exception as e:\n",
    "    print(e)"
   ]
  },
  {
   "cell_type": "code",
   "execution_count": null,
   "metadata": {},
   "outputs": [],
   "source": []
  },
  {
   "cell_type": "code",
   "execution_count": null,
   "metadata": {},
   "outputs": [],
   "source": []
  }
 ],
 "metadata": {
  "kernelspec": {
   "display_name": "Python 3",
   "language": "python",
   "name": "python3"
  },
  "language_info": {
   "codemirror_mode": {
    "name": "ipython",
    "version": 3
   },
   "file_extension": ".py",
   "mimetype": "text/x-python",
   "name": "python",
   "nbconvert_exporter": "python",
   "pygments_lexer": "ipython3",
   "version": "3.12.2"
  }
 },
 "nbformat": 4,
 "nbformat_minor": 2
}
